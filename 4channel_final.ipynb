{
  "nbformat": 4,
  "nbformat_minor": 0,
  "metadata": {
    "colab": {
      "provenance": [],
      "machine_shape": "hm",
      "include_colab_link": true
    },
    "kernelspec": {
      "name": "python3",
      "display_name": "Python 3"
    },
    "language_info": {
      "name": "python"
    },
    "gpuClass": "premium",
    "accelerator": "GPU"
  },
  "cells": [
    {
      "cell_type": "markdown",
      "metadata": {
        "id": "view-in-github",
        "colab_type": "text"
      },
      "source": [
        "<a href=\"https://colab.research.google.com/github/jackgaul/BCI_project/blob/main/4channel_final.ipynb\" target=\"_parent\"><img src=\"https://colab.research.google.com/assets/colab-badge.svg\" alt=\"Open In Colab\"/></a>"
      ]
    },
    {
      "cell_type": "code",
      "execution_count": null,
      "metadata": {
        "id": "mu7GAJqiv4TR"
      },
      "outputs": [],
      "source": [
        "import sys\n",
        "import os\n",
        "import numpy as np\n",
        "import gc\n",
        "import torch\n",
        "import torch.nn as nn\n",
        "import torch.nn.functional as F\n",
        "import torchvision.transforms as transforms\n",
        "from torch.utils.data import Dataset\n",
        "from torch.utils.data import DataLoader\n",
        "from torchvision.datasets import MNIST\n",
        "from scipy import stats\n",
        "import matplotlib.pyplot as plt"
      ]
    },
    {
      "cell_type": "code",
      "source": [
        "#load np array\n",
        "#loadedData = np.load('drive/MyDrive/bci/MindBigDataVisualMnist2021-Muse2v0.17.txtstructed.npy',allow_pickle = True)\n",
        "loadedData = np.load('drive/MyDrive/bci/Muse2_cleaned_cut2structednp.npy',allow_pickle = True)\n"
      ],
      "metadata": {
        "id": "lXsejbXhF7PP"
      },
      "execution_count": null,
      "outputs": []
    },
    {
      "cell_type": "code",
      "source": [
        "np.random.shuffle(loadedData)\n",
        "loadedData_train = loadedData[:(int(len(loadedData)*0.8))]\n",
        "loadedData_test = loadedData[(int(len(loadedData)*0.8)):]"
      ],
      "metadata": {
        "id": "jyFXrjT5MYgz"
      },
      "execution_count": null,
      "outputs": []
    },
    {
      "cell_type": "code",
      "source": [
        "#extract labels\n",
        "labelvec_train = []\n",
        "labelvec_test = []\n",
        "blank_count= 0\n",
        "for i in loadedData_train:\n",
        "  if i[3] != \"-1\":\n",
        "    \n",
        "    labelvec_train.append(int(i[3]))\n",
        "    blank_count +=1\n",
        "\n",
        "for i in loadedData_test:\n",
        "  if i[3] != \"-1\":\n",
        "    \n",
        "    labelvec_test.append(int(i[3]))\n",
        "    blank_count +=1\n",
        "print(blank_count)"
      ],
      "metadata": {
        "id": "J7gKlJHXlXMo",
        "colab": {
          "base_uri": "https://localhost:8080/"
        },
        "outputId": "ba7b5889-bd18-451f-81c4-13736bf33276"
      },
      "execution_count": null,
      "outputs": [
        {
          "output_type": "stream",
          "name": "stdout",
          "text": [
            "11387\n"
          ]
        }
      ]
    },
    {
      "cell_type": "code",
      "source": [
        "# Loop through the loaded file and grab all the EEG values \n",
        "# should we do the absolute value\n",
        "\n",
        "def full4Channel(loadedData):\n",
        "  examplelist = []\n",
        "  index = 0\n",
        "  for j in range(len(loadedData)):\n",
        "    \n",
        "    if loadedData[j][3] != \"-1\":\n",
        "      examplelist.append([[[],[],[],[]]])\n",
        "    #print(examplelist[0][0])\n",
        "      for i in range(512):\n",
        "        examplelist[index][0][0].append(abs(float(loadedData[j][4][i])))\n",
        "        examplelist[index][0][1].append(abs(float(loadedData[j][4][512 + i])))\n",
        "        examplelist[index][0][2].append(abs(float(loadedData[j][4][512*2 +i])))\n",
        "        examplelist[index][0][3].append(abs(float(loadedData[j][4][512*3+i])))\n",
        "      index +=1\n",
        "  return examplelist\n",
        "\n",
        "def twoChannel(loadedData):\n",
        "  examplelist = []\n",
        "  index = 0\n",
        "  for j in range(len(loadedData)):\n",
        "    \n",
        "    if loadedData[j][3] != \"-1\":\n",
        "      examplelist.append([[[],[]]])\n",
        "    #print(examplelist[0][0])\n",
        "      for i in range(512):\n",
        "        examplelist[index][0][0].append(abs(float(loadedData[j][4][i])))\n",
        "        examplelist[index][0][1].append(abs(float(loadedData[j][4][512 + i])))\n",
        "      index +=1\n",
        "  return examplelist\n",
        "\n",
        "\n",
        "examplelist_train = twoChannel(loadedData_train)\n",
        "examplelist_test = twoChannel(loadedData_test)\n",
        "\n"
      ],
      "metadata": {
        "id": "zEOH9xL7Ofd5"
      },
      "execution_count": null,
      "outputs": []
    },
    {
      "cell_type": "code",
      "source": [
        "\n",
        "catch_train = np.array(examplelist_train)\n",
        "catch_test = np.array(examplelist_test)"
      ],
      "metadata": {
        "id": "PNCDhZHpcC4z"
      },
      "execution_count": null,
      "outputs": []
    },
    {
      "cell_type": "code",
      "source": [
        "## To save RAM we can deleted the raw loaded data and the raw list \n",
        "\n",
        "del loadedData\n",
        "del examplelist\n",
        "\n",
        "gc.collect()"
      ],
      "metadata": {
        "colab": {
          "base_uri": "https://localhost:8080/"
        },
        "id": "HwpWn5Ygn2Y-",
        "outputId": "0440f4d4-0df3-4c07-cf09-43975fe2907f"
      },
      "execution_count": null,
      "outputs": [
        {
          "output_type": "execute_result",
          "data": {
            "text/plain": [
              "44"
            ]
          },
          "metadata": {},
          "execution_count": 6
        }
      ]
    },
    {
      "cell_type": "code",
      "source": [
        "#use z score to normalize data\n",
        "\n",
        "def zscore4channel(catch):\n",
        "  for i in range(catch.shape[0]):\n",
        "    catch[i][0][0] = stats.zscore(catch[i][0][0])\n",
        "    catch[i][0][1] = stats.zscore(catch[i][0][1])\n",
        "    catch[i][0][2] = stats.zscore(catch[i][0][2])\n",
        "    catch[i][0][3] = stats.zscore(catch[i][0][3])\n",
        "    #print(catch[0][0][0])\n",
        "  return catch\n",
        "\n",
        "def zscore2channel(catch):\n",
        "  for i in range(catch.shape[0]):\n",
        "    catch[i][0][0] = stats.zscore(catch[i][0][0])\n",
        "    catch[i][0][1] = stats.zscore(catch[i][0][1])\n",
        "  \n",
        "    #print(catch[0][0][0])\n",
        "  return catch\n",
        "\n",
        "catch_train = zscore2channel(catch_train)\n",
        "catch_test = zscore2channel(catch_test)"
      ],
      "metadata": {
        "id": "LJfHmItNiowK"
      },
      "execution_count": null,
      "outputs": []
    },
    {
      "cell_type": "code",
      "source": [
        "# custome dataset model needed to use the pytorch dataloader\n",
        "class eeg_dataset(Dataset):\n",
        "  def __init__(self,nparray_data,labels) -> None:\n",
        "    super().__init__()\n",
        "    self.dataset = torch.tensor(nparray_data, dtype=torch.float)\n",
        "    self.labels = torch.tensor(np.array(labels)).long()\n",
        "  def __len__(self):\n",
        "    return(len(self.dataset))\n",
        "  def __getitem__(self, index):\n",
        "    return self.dataset[index], self.labels[index]"
      ],
      "metadata": {
        "id": "euInWNMYFBlP"
      },
      "execution_count": null,
      "outputs": []
    },
    {
      "cell_type": "code",
      "source": [
        "#create the dataset object\n",
        "special_dataset_train = eeg_dataset(catch_train,labelvec_train)\n",
        "special_dataset_test = eeg_dataset(catch_test,labelvec_test)"
      ],
      "metadata": {
        "id": "XFBO05XcWaH1"
      },
      "execution_count": null,
      "outputs": []
    },
    {
      "cell_type": "code",
      "source": [
        "#Network Params\n",
        "\n",
        "latent_dims = 256\n",
        "num_epochs_auto = 80\n",
        "num_epochs_class = 120\n",
        "batch_size = 128\n",
        "capacity = 256\n",
        "learning_rate = 1e-3\n",
        "channels = 2\n",
        "use_gpu = True"
      ],
      "metadata": {
        "id": "DRX9tnMX2hiE"
      },
      "execution_count": null,
      "outputs": []
    },
    {
      "cell_type": "code",
      "source": [
        "dataloader_train = DataLoader(special_dataset_train, batch_size=batch_size, shuffle=True)\n",
        "dataloader_test = DataLoader(special_dataset_test, batch_size=batch_size, shuffle=True)\n"
      ],
      "metadata": {
        "id": "HylVF840Wsj6"
      },
      "execution_count": null,
      "outputs": []
    },
    {
      "cell_type": "code",
      "source": [
        "\n",
        "\n",
        "#testing out 1D\n",
        "class Encoder(nn.Module):\n",
        "    def __init__(self):\n",
        "        super(Encoder, self).__init__()\n",
        "        c = capacity\n",
        "        self.conv1 = nn.Conv2d(in_channels=1, out_channels=c, kernel_size=(1,4), stride=(1,2), padding=(0,1)) # out: c x 14 x 14 ( c x 4 x 256?)\n",
        "        self.conv2 = nn.Conv2d(in_channels=c, out_channels=c*2, kernel_size=(1,4), stride=(1,2), padding=(0,1)) # out: c x 7 x 7 (c x 4 x 128)\n",
        "        self.fc = nn.Linear(in_features=c*2*channels*128, out_features=latent_dims)# 2*7*7\n",
        "        self.drop1 = nn.Dropout(0.25)\n",
        "        self.drop2 = nn.Dropout(0.25)\n",
        "            \n",
        "    def forward(self, x):\n",
        "        x = self.conv1(x)\n",
        "        x = F.relu(x)\n",
        "        x = self.drop1(x)\n",
        "        x = self.conv2(x)\n",
        "        x = F.relu(x)\n",
        "        x = self.drop2(x)\n",
        "        x = x.view(x.size(0), -1) # flatten batch of multi-channel feature maps to a batch of feature vectors\n",
        "        x = self.fc(x)\n",
        "        return x\n",
        "\n",
        "class Decoder(nn.Module):\n",
        "    def __init__(self):\n",
        "        super(Decoder, self).__init__()\n",
        "        c = capacity\n",
        "        self.fc = nn.Linear(in_features=latent_dims, out_features=c*2*channels*128)# 2*7*7\n",
        "        self.conv2 = nn.ConvTranspose2d(in_channels=c*2, out_channels=c, kernel_size=(1,4), stride=(1,2), padding=(0,1))\n",
        "        self.conv1 = nn.ConvTranspose2d(in_channels=c, out_channels=1, kernel_size=(1,4), stride=(1,2), padding=(0,1))\n",
        "        self.drop1 = nn.Dropout(0.25)\n",
        "            \n",
        "    def forward(self, x):\n",
        "        x = self.fc(x)\n",
        "        x = x.view(x.size(0), capacity*2, channels, 128) #2*7*7 unflatten batch of feature vectors to a batch of multi-channel feature maps\n",
        "        x = self.conv2(x)\n",
        "        x = F.relu(x)\n",
        "        x = self.drop1(x)\n",
        "        x = self.conv1(x)\n",
        "        x = torch.tanh(x) # last layer before output is tanh, since the images are normalized and 0-centered\n",
        "        return x\n",
        "    \n",
        "class Autoencoder(nn.Module):\n",
        "    def __init__(self):\n",
        "        super(Autoencoder, self).__init__()\n",
        "        self.encoder = Encoder()\n",
        "        self.decoder = Decoder()\n",
        "    \n",
        "    def forward(self, x):\n",
        "        latent = self.encoder(x)\n",
        "        x_recon = self.decoder(latent)\n",
        "        return x_recon\n",
        "\n",
        "    def encode(self,x):\n",
        "      latent = self.encoder(x)\n",
        "      return latent\n",
        "    \n",
        "autoencoder = Autoencoder()\n",
        "\n",
        "device = torch.device(\"cuda:0\" if use_gpu and torch.cuda.is_available() else \"cpu\")\n",
        "autoencoder = autoencoder.to(device)\n",
        "print(device)\n",
        "\n",
        "num_params = sum(p.numel() for p in autoencoder.parameters() if p.requires_grad)\n",
        "print('Number of parameters: %d' % num_params)"
      ],
      "metadata": {
        "colab": {
          "base_uri": "https://localhost:8080/"
        },
        "id": "KSgEdGjnwoQM",
        "outputId": "4a0cb0f3-ee9e-4d7e-dbe6-c6fe2dfe4ae2"
      },
      "execution_count": null,
      "outputs": [
        {
          "output_type": "stream",
          "name": "stdout",
          "text": [
            "cuda:0\n",
            "Number of parameters: 68291841\n"
          ]
        }
      ]
    },
    {
      "cell_type": "code",
      "source": [
        "#Train Encoder\n",
        "\n",
        "optimizer = torch.optim.Adam(params=autoencoder.parameters(), lr=learning_rate, weight_decay=1e-5)\n",
        "autoencoder.float()\n",
        "# set to training mode\n",
        "autoencoder.train()\n",
        "\n",
        "encode_train_loss_avg = []\n",
        "\n",
        "\n",
        "print('Training ...')\n",
        "for epoch in range(num_epochs_auto):\n",
        "    encode_train_loss_avg.append(0)\n",
        "    num_batches = 0\n",
        "    \n",
        "    #for image_batch, h in train_dataloader:\n",
        "    for image_batch, h in dataloader_train: #eeg loaded\n",
        "\n",
        "        image_batch = image_batch.to(device)\n",
        "\n",
        "        # autoencoder reconstruction\n",
        "        image_batch_recon = autoencoder(image_batch)\n",
        "\n",
        "        # reconstruction error\n",
        "        loss = F.mse_loss(image_batch_recon, image_batch)\n",
        "        \n",
        "        # backpropagation\n",
        "        optimizer.zero_grad()\n",
        "        loss.backward()\n",
        "        \n",
        "        # one step of the optmizer (using the gradients from backpropagation)\n",
        "        optimizer.step()\n",
        "        \n",
        "        encode_train_loss_avg[-1] += loss.item()\n",
        "        num_batches += 1\n",
        "        \n",
        "\n",
        "    #break\n",
        "\n",
        "    encode_train_loss_avg[-1] /= num_batches\n",
        "    print('Epoch [%d / %d] average reconstruction error: %f' % (epoch+1, num_epochs_auto, encode_train_loss_avg[-1]))"
      ],
      "metadata": {
        "colab": {
          "base_uri": "https://localhost:8080/"
        },
        "id": "vIbjweiUwx3B",
        "outputId": "9925fbe7-898c-478b-a1f5-eba854300b8a"
      },
      "execution_count": null,
      "outputs": [
        {
          "output_type": "stream",
          "name": "stdout",
          "text": [
            "Training ...\n",
            "Epoch [1 / 80] average reconstruction error: 0.811002\n",
            "Epoch [2 / 80] average reconstruction error: 0.675529\n",
            "Epoch [3 / 80] average reconstruction error: 0.638643\n",
            "Epoch [4 / 80] average reconstruction error: 0.585747\n",
            "Epoch [5 / 80] average reconstruction error: 0.533453\n",
            "Epoch [6 / 80] average reconstruction error: 0.501238\n",
            "Epoch [7 / 80] average reconstruction error: 0.479045\n",
            "Epoch [8 / 80] average reconstruction error: 0.463036\n",
            "Epoch [9 / 80] average reconstruction error: 0.448534\n",
            "Epoch [10 / 80] average reconstruction error: 0.433405\n",
            "Epoch [11 / 80] average reconstruction error: 0.416296\n",
            "Epoch [12 / 80] average reconstruction error: 0.406459\n",
            "Epoch [13 / 80] average reconstruction error: 0.396866\n",
            "Epoch [14 / 80] average reconstruction error: 0.387869\n",
            "Epoch [15 / 80] average reconstruction error: 0.380428\n",
            "Epoch [16 / 80] average reconstruction error: 0.376189\n",
            "Epoch [17 / 80] average reconstruction error: 0.368481\n",
            "Epoch [18 / 80] average reconstruction error: 0.361496\n",
            "Epoch [19 / 80] average reconstruction error: 0.357316\n",
            "Epoch [20 / 80] average reconstruction error: 0.355365\n",
            "Epoch [21 / 80] average reconstruction error: 0.353324\n",
            "Epoch [22 / 80] average reconstruction error: 0.357328\n",
            "Epoch [23 / 80] average reconstruction error: 0.348858\n",
            "Epoch [24 / 80] average reconstruction error: 0.340338\n",
            "Epoch [25 / 80] average reconstruction error: 0.336369\n",
            "Epoch [26 / 80] average reconstruction error: 0.332945\n",
            "Epoch [27 / 80] average reconstruction error: 0.338507\n",
            "Epoch [28 / 80] average reconstruction error: 0.334013\n",
            "Epoch [29 / 80] average reconstruction error: 0.327547\n",
            "Epoch [30 / 80] average reconstruction error: 0.329153\n",
            "Epoch [31 / 80] average reconstruction error: 0.322792\n",
            "Epoch [32 / 80] average reconstruction error: 0.324701\n",
            "Epoch [33 / 80] average reconstruction error: 0.318829\n",
            "Epoch [34 / 80] average reconstruction error: 0.316432\n",
            "Epoch [35 / 80] average reconstruction error: 0.317570\n",
            "Epoch [36 / 80] average reconstruction error: 0.315025\n",
            "Epoch [37 / 80] average reconstruction error: 0.312827\n",
            "Epoch [38 / 80] average reconstruction error: 0.307985\n",
            "Epoch [39 / 80] average reconstruction error: 0.301240\n",
            "Epoch [40 / 80] average reconstruction error: 0.297763\n",
            "Epoch [41 / 80] average reconstruction error: 0.296601\n",
            "Epoch [42 / 80] average reconstruction error: 0.296671\n",
            "Epoch [43 / 80] average reconstruction error: 0.294785\n",
            "Epoch [44 / 80] average reconstruction error: 0.293319\n",
            "Epoch [45 / 80] average reconstruction error: 0.291915\n",
            "Epoch [46 / 80] average reconstruction error: 0.295744\n",
            "Epoch [47 / 80] average reconstruction error: 0.290351\n",
            "Epoch [48 / 80] average reconstruction error: 0.289538\n",
            "Epoch [49 / 80] average reconstruction error: 0.289436\n",
            "Epoch [50 / 80] average reconstruction error: 0.289051\n",
            "Epoch [51 / 80] average reconstruction error: 0.287690\n",
            "Epoch [52 / 80] average reconstruction error: 0.287763\n",
            "Epoch [53 / 80] average reconstruction error: 0.285355\n",
            "Epoch [54 / 80] average reconstruction error: 0.284893\n",
            "Epoch [55 / 80] average reconstruction error: 0.287367\n",
            "Epoch [56 / 80] average reconstruction error: 0.286223\n",
            "Epoch [57 / 80] average reconstruction error: 0.284714\n",
            "Epoch [58 / 80] average reconstruction error: 0.283005\n",
            "Epoch [59 / 80] average reconstruction error: 0.282512\n",
            "Epoch [60 / 80] average reconstruction error: 0.282659\n",
            "Epoch [61 / 80] average reconstruction error: 0.282469\n",
            "Epoch [62 / 80] average reconstruction error: 0.281345\n",
            "Epoch [63 / 80] average reconstruction error: 0.280609\n",
            "Epoch [64 / 80] average reconstruction error: 0.280808\n",
            "Epoch [65 / 80] average reconstruction error: 0.281113\n",
            "Epoch [66 / 80] average reconstruction error: 0.280661\n",
            "Epoch [67 / 80] average reconstruction error: 0.279422\n",
            "Epoch [68 / 80] average reconstruction error: 0.279553\n",
            "Epoch [69 / 80] average reconstruction error: 0.278400\n",
            "Epoch [70 / 80] average reconstruction error: 0.278018\n",
            "Epoch [71 / 80] average reconstruction error: 0.278023\n",
            "Epoch [72 / 80] average reconstruction error: 0.279171\n",
            "Epoch [73 / 80] average reconstruction error: 0.277389\n",
            "Epoch [74 / 80] average reconstruction error: 0.277257\n",
            "Epoch [75 / 80] average reconstruction error: 0.277056\n",
            "Epoch [76 / 80] average reconstruction error: 0.276799\n",
            "Epoch [77 / 80] average reconstruction error: 0.276510\n",
            "Epoch [78 / 80] average reconstruction error: 0.276044\n",
            "Epoch [79 / 80] average reconstruction error: 0.276076\n",
            "Epoch [80 / 80] average reconstruction error: 0.275861\n"
          ]
        }
      ]
    },
    {
      "cell_type": "code",
      "source": [
        "#Test Encoder\n",
        "\n",
        "# set to autoencoder to evaluation mode\n",
        "autoencoder.eval()\n",
        "\n",
        "\n",
        "encode_test_loss_avg = 0\n",
        "num_batches = 0\n",
        "\n",
        "print('Training ...')\n",
        "\n",
        "for image_batch, h in dataloader_test: #eeg loaded\n",
        "\n",
        "  with torch.no_grad():\n",
        "       \n",
        "    image_batch = image_batch.to(device)\n",
        "            \n",
        "            # autoencoder reconstruction\n",
        "    image_batch_recon = autoencoder(image_batch)\n",
        "            \n",
        "            # reconstruction error\n",
        "    loss = F.mse_loss(image_batch_recon, image_batch)\n",
        "            \n",
        "        \n",
        "    encode_test_loss_avg += loss.item()\n",
        "    num_batches += 1\n",
        "        \n",
        "\n",
        "encode_test_loss_avg /= num_batches\n",
        "print('average reconstruction error: %f' % (encode_test_loss_avg))\n",
        "\n"
      ],
      "metadata": {
        "colab": {
          "base_uri": "https://localhost:8080/"
        },
        "id": "UA9Wgok6XD-S",
        "outputId": "0ee10710-cbb7-48fd-f1f2-9b72f22f91f0"
      },
      "execution_count": null,
      "outputs": [
        {
          "output_type": "stream",
          "name": "stdout",
          "text": [
            "Training ...\n",
            "average reconstruction error: 0.436751\n"
          ]
        }
      ]
    },
    {
      "cell_type": "code",
      "source": [
        "# Plot Train Loss Encoder\n",
        "plt.ion()\n",
        "\n",
        "fig = plt.figure()\n",
        "plt.plot(encode_train_loss_avg)\n",
        "plt.xlabel('Epochs')\n",
        "plt.ylabel('Reconstruction error')\n",
        "plt.show()"
      ],
      "metadata": {
        "colab": {
          "base_uri": "https://localhost:8080/",
          "height": 279
        },
        "id": "ykZ4F6KaXo9C",
        "outputId": "6ce2e1e2-31bf-49a2-a144-abc58b74b72f"
      },
      "execution_count": null,
      "outputs": [
        {
          "output_type": "display_data",
          "data": {
            "text/plain": [
              "<Figure size 432x288 with 1 Axes>"
            ],
            "image/png": "[encoded data removed]"
          },
          "metadata": {
            "needs_background": "light"
          }
        }
      ]
    },
    {
      "cell_type": "code",
      "source": [
        "# Save model\n",
        "torch.save(autoencoder.state_dict(),'drive/MyDrive/bci/eegautoencoderfinal2channel.pt')"
      ],
      "metadata": {
        "id": "WsGhiyUn_XU_"
      },
      "execution_count": null,
      "outputs": []
    },
    {
      "cell_type": "code",
      "source": [
        "#Load model\n",
        "loaded_encoder = Autoencoder()\n",
        "loaded_encoder.load_state_dict(torch.load('drive/MyDrive/bci/eegautoencoder.pt'))\n",
        "loaded_encoder.eval()"
      ],
      "metadata": {
        "colab": {
          "base_uri": "https://localhost:8080/"
        },
        "id": "VYv9tRhjBbPf",
        "outputId": "136a235d-9491-4afc-b136-c14c244a5ccf"
      },
      "execution_count": null,
      "outputs": [
        {
          "output_type": "execute_result",
          "data": {
            "text/plain": [
              "Autoencoder(\n",
              "  (encoder): Encoder(\n",
              "    (conv1): Conv2d(1, 256, kernel_size=(1, 4), stride=(1, 2), padding=(0, 1))\n",
              "    (conv2): Conv2d(256, 512, kernel_size=(1, 4), stride=(1, 2), padding=(0, 1))\n",
              "    (fc): Linear(in_features=262144, out_features=256, bias=True)\n",
              "  )\n",
              "  (decoder): Decoder(\n",
              "    (fc): Linear(in_features=256, out_features=262144, bias=True)\n",
              "    (conv2): ConvTranspose2d(512, 256, kernel_size=(1, 4), stride=(1, 2), padding=(0, 1))\n",
              "    (conv1): ConvTranspose2d(256, 1, kernel_size=(1, 4), stride=(1, 2), padding=(0, 1))\n",
              "  )\n",
              ")"
            ]
          },
          "metadata": {},
          "execution_count": 19
        }
      ]
    },
    {
      "cell_type": "code",
      "source": [
        "#classification layer\n",
        "devicecpu='cpu'\n",
        "class ClassifyDigit(nn.Module):\n",
        "  def __init__(self):\n",
        "    super(ClassifyDigit,self).__init__()\n",
        "    self.fc1 = nn.Linear(in_features=latent_dims, out_features=128)\n",
        "    self.fc2 = nn.Linear(in_features=128, out_features=10)\n",
        "    self.drop1 = nn.Dropout(0.25)\n",
        "\n",
        "  def forward(self,x):\n",
        "    x = self.fc1(x)\n",
        "    x = F.relu(x)\n",
        "    x = self.drop1(x)\n",
        "    x = self.fc2(x)\n",
        "    #x = F.relu(x)\n",
        "    #x = F.log_softmax(x)\n",
        "    return x\n",
        "\n",
        "\n",
        "classify = ClassifyDigit()\n",
        "\n",
        "classify = classify.to(device)\n",
        "print(device)\n",
        "\n",
        "num_params = sum(p.numel() for p in classify.parameters() if p.requires_grad)\n",
        "print('Number of parameters: %d' % num_params)"
      ],
      "metadata": {
        "colab": {
          "base_uri": "https://localhost:8080/"
        },
        "id": "7iP-gW2eajUd",
        "outputId": "18932877-4848-4fc1-c73a-ab84eec25cbe"
      },
      "execution_count": null,
      "outputs": [
        {
          "output_type": "stream",
          "name": "stdout",
          "text": [
            "cuda:0\n",
            "Number of parameters: 34186\n"
          ]
        }
      ]
    },
    {
      "cell_type": "code",
      "source": [
        "#train classifier\n",
        "optimizer = torch.optim.Adam(params=classify.parameters(), lr=learning_rate, weight_decay=1e-5)\n",
        "\n",
        "# set to training mode\n",
        "classify.train()\n",
        "\n",
        "train_loss_avg_class = []\n",
        "\n",
        "\n",
        "print('Training ...')\n",
        "for epoch in range(num_epochs_class):\n",
        "    train_loss_avg_class.append(0)\n",
        "    num_batches = 0\n",
        "    \n",
        "    #for image_batch, h in train_dataloader:\n",
        "    for image_batch, target in dataloader_train: #eeg loaded\n",
        "        \n",
        "        image_batch = image_batch.to(device)\n",
        "        target = target.to(device)\n",
        "        \n",
        "        # Latent embedding creation\n",
        "        latent = autoencoder.encoder(image_batch)\n",
        "        latent = latent.to(device)\n",
        "\n",
        "        # Classification\n",
        "        image_batch_classify = classify(latent)\n",
        "        \n",
        "        # classification error\n",
        "        loss = F.cross_entropy(image_batch_classify, target)\n",
        "        \n",
        "        # backpropagation\n",
        "        optimizer.zero_grad()\n",
        "        loss.backward()\n",
        "        \n",
        "        # one step of the optmizer (using the gradients from backpropagation)\n",
        "        optimizer.step()\n",
        "        \n",
        "        train_loss_avg_class[-1] += loss.item()\n",
        "        num_batches += 1\n",
        "        \n",
        "\n",
        "    \n",
        "\n",
        "    train_loss_avg_class[-1] /= num_batches\n",
        "    print('Epoch [%d / %d] average classification error: %f' % (epoch+1, num_epochs_class, train_loss_avg_class[-1]))"
      ],
      "metadata": {
        "colab": {
          "base_uri": "https://localhost:8080/"
        },
        "id": "1LSEj_S0VsCb",
        "outputId": "36fc09d9-c32b-4cfc-f5e8-61392299b24b"
      },
      "execution_count": null,
      "outputs": [
        {
          "output_type": "stream",
          "name": "stdout",
          "text": [
            "Training ...\n",
            "Epoch [1 / 120] average classification error: 2.368660\n",
            "Epoch [2 / 120] average classification error: 2.234276\n",
            "Epoch [3 / 120] average classification error: 2.171512\n",
            "Epoch [4 / 120] average classification error: 2.104655\n",
            "Epoch [5 / 120] average classification error: 2.040966\n",
            "Epoch [6 / 120] average classification error: 1.977651\n",
            "Epoch [7 / 120] average classification error: 1.922471\n",
            "Epoch [8 / 120] average classification error: 1.861012\n",
            "Epoch [9 / 120] average classification error: 1.792166\n",
            "Epoch [10 / 120] average classification error: 1.740626\n",
            "Epoch [11 / 120] average classification error: 1.682628\n",
            "Epoch [12 / 120] average classification error: 1.625434\n",
            "Epoch [13 / 120] average classification error: 1.588965\n",
            "Epoch [14 / 120] average classification error: 1.533469\n",
            "Epoch [15 / 120] average classification error: 1.486364\n",
            "Epoch [16 / 120] average classification error: 1.440313\n",
            "Epoch [17 / 120] average classification error: 1.415226\n",
            "Epoch [18 / 120] average classification error: 1.381393\n",
            "Epoch [19 / 120] average classification error: 1.318667\n",
            "Epoch [20 / 120] average classification error: 1.308058\n",
            "Epoch [21 / 120] average classification error: 1.267625\n",
            "Epoch [22 / 120] average classification error: 1.249546\n",
            "Epoch [23 / 120] average classification error: 1.221230\n",
            "Epoch [24 / 120] average classification error: 1.205147\n",
            "Epoch [25 / 120] average classification error: 1.177556\n",
            "Epoch [26 / 120] average classification error: 1.150111\n",
            "Epoch [27 / 120] average classification error: 1.115340\n",
            "Epoch [28 / 120] average classification error: 1.103546\n",
            "Epoch [29 / 120] average classification error: 1.080562\n",
            "Epoch [30 / 120] average classification error: 1.072710\n",
            "Epoch [31 / 120] average classification error: 1.027490\n",
            "Epoch [32 / 120] average classification error: 1.011140\n",
            "Epoch [33 / 120] average classification error: 1.005128\n",
            "Epoch [34 / 120] average classification error: 0.982192\n",
            "Epoch [35 / 120] average classification error: 0.977896\n",
            "Epoch [36 / 120] average classification error: 0.977018\n",
            "Epoch [37 / 120] average classification error: 0.950248\n",
            "Epoch [38 / 120] average classification error: 0.932477\n",
            "Epoch [39 / 120] average classification error: 0.916760\n",
            "Epoch [40 / 120] average classification error: 0.903839\n",
            "Epoch [41 / 120] average classification error: 0.905995\n",
            "Epoch [42 / 120] average classification error: 0.884614\n",
            "Epoch [43 / 120] average classification error: 0.878940\n",
            "Epoch [44 / 120] average classification error: 0.863507\n",
            "Epoch [45 / 120] average classification error: 0.865353\n",
            "Epoch [46 / 120] average classification error: 0.849748\n",
            "Epoch [47 / 120] average classification error: 0.848063\n",
            "Epoch [48 / 120] average classification error: 0.829569\n",
            "Epoch [49 / 120] average classification error: 0.809595\n",
            "Epoch [50 / 120] average classification error: 0.784767\n",
            "Epoch [51 / 120] average classification error: 0.800844\n",
            "Epoch [52 / 120] average classification error: 0.798856\n",
            "Epoch [53 / 120] average classification error: 0.767454\n",
            "Epoch [54 / 120] average classification error: 0.770226\n",
            "Epoch [55 / 120] average classification error: 0.752096\n",
            "Epoch [56 / 120] average classification error: 0.768068\n",
            "Epoch [57 / 120] average classification error: 0.739290\n",
            "Epoch [58 / 120] average classification error: 0.747502\n",
            "Epoch [59 / 120] average classification error: 0.724994\n",
            "Epoch [60 / 120] average classification error: 0.729951\n",
            "Epoch [61 / 120] average classification error: 0.713392\n",
            "Epoch [62 / 120] average classification error: 0.720212\n",
            "Epoch [63 / 120] average classification error: 0.727956\n",
            "Epoch [64 / 120] average classification error: 0.695762\n",
            "Epoch [65 / 120] average classification error: 0.687546\n",
            "Epoch [66 / 120] average classification error: 0.688244\n",
            "Epoch [67 / 120] average classification error: 0.672758\n",
            "Epoch [68 / 120] average classification error: 0.681792\n",
            "Epoch [69 / 120] average classification error: 0.670694\n",
            "Epoch [70 / 120] average classification error: 0.673011\n",
            "Epoch [71 / 120] average classification error: 0.660236\n",
            "Epoch [72 / 120] average classification error: 0.648792\n",
            "Epoch [73 / 120] average classification error: 0.634978\n",
            "Epoch [74 / 120] average classification error: 0.648589\n",
            "Epoch [75 / 120] average classification error: 0.637728\n",
            "Epoch [76 / 120] average classification error: 0.637840\n",
            "Epoch [77 / 120] average classification error: 0.614365\n",
            "Epoch [78 / 120] average classification error: 0.631809\n",
            "Epoch [79 / 120] average classification error: 0.617412\n",
            "Epoch [80 / 120] average classification error: 0.616698\n",
            "Epoch [81 / 120] average classification error: 0.602916\n",
            "Epoch [82 / 120] average classification error: 0.607716\n",
            "Epoch [83 / 120] average classification error: 0.595891\n",
            "Epoch [84 / 120] average classification error: 0.599620\n",
            "Epoch [85 / 120] average classification error: 0.588119\n",
            "Epoch [86 / 120] average classification error: 0.601099\n",
            "Epoch [87 / 120] average classification error: 0.572257\n",
            "Epoch [88 / 120] average classification error: 0.580326\n",
            "Epoch [89 / 120] average classification error: 0.585821\n",
            "Epoch [90 / 120] average classification error: 0.557466\n",
            "Epoch [91 / 120] average classification error: 0.565415\n",
            "Epoch [92 / 120] average classification error: 0.554470\n",
            "Epoch [93 / 120] average classification error: 0.549984\n",
            "Epoch [94 / 120] average classification error: 0.542031\n",
            "Epoch [95 / 120] average classification error: 0.562805\n",
            "Epoch [96 / 120] average classification error: 0.542520\n",
            "Epoch [97 / 120] average classification error: 0.550423\n",
            "Epoch [98 / 120] average classification error: 0.536771\n",
            "Epoch [99 / 120] average classification error: 0.536078\n",
            "Epoch [100 / 120] average classification error: 0.543485\n",
            "Epoch [101 / 120] average classification error: 0.540706\n",
            "Epoch [102 / 120] average classification error: 0.521192\n",
            "Epoch [103 / 120] average classification error: 0.525177\n",
            "Epoch [104 / 120] average classification error: 0.526778\n",
            "Epoch [105 / 120] average classification error: 0.530315\n",
            "Epoch [106 / 120] average classification error: 0.502023\n",
            "Epoch [107 / 120] average classification error: 0.507661\n",
            "Epoch [108 / 120] average classification error: 0.495407\n",
            "Epoch [109 / 120] average classification error: 0.490624\n",
            "Epoch [110 / 120] average classification error: 0.510407\n",
            "Epoch [111 / 120] average classification error: 0.508357\n",
            "Epoch [112 / 120] average classification error: 0.489923\n",
            "Epoch [113 / 120] average classification error: 0.487495\n",
            "Epoch [114 / 120] average classification error: 0.502858\n",
            "Epoch [115 / 120] average classification error: 0.478840\n",
            "Epoch [116 / 120] average classification error: 0.485586\n",
            "Epoch [117 / 120] average classification error: 0.485216\n",
            "Epoch [118 / 120] average classification error: 0.468224\n",
            "Epoch [119 / 120] average classification error: 0.473692\n",
            "Epoch [120 / 120] average classification error: 0.470386\n"
          ]
        }
      ]
    },
    {
      "cell_type": "code",
      "source": [
        "# Plot Train Loss Encoder\n",
        "plt.ion()\n",
        "\n",
        "fig = plt.figure()\n",
        "plt.plot(train_loss_avg_class)\n",
        "plt.xlabel('Epochs')\n",
        "plt.ylabel('Classification error')\n",
        "plt.show()"
      ],
      "metadata": {
        "colab": {
          "base_uri": "https://localhost:8080/",
          "height": 279
        },
        "id": "6j6RRN66yWQL",
        "outputId": "55234be2-ec32-4fe2-d13a-e7264f746981"
      },
      "execution_count": null,
      "outputs": [
        {
          "output_type": "display_data",
          "data": {
            "text/plain": [
              "<Figure size 432x288 with 1 Axes>"
            ],
            "image/png": "[encoded data removed]"
          },
          "metadata": {
            "needs_background": "light"
          }
        }
      ]
    },
    {
      "cell_type": "code",
      "source": [
        "# NOT NEEDED\n",
        "\n",
        "for image_batch, _ in dataloader:\n",
        "  image_batch = image_batch.to(device)\n",
        "\n",
        "  # autoencoder reconstruction\n",
        "  image_batch_encode = autoencoder.encoder(image_batch)\n",
        "  print(image_batch_encode.shape)\n",
        "  break"
      ],
      "metadata": {
        "colab": {
          "base_uri": "https://localhost:8080/"
        },
        "id": "9mHkZbm1JXXy",
        "outputId": "78aa3f82-14e9-43d6-c955-e848057150d6"
      },
      "execution_count": null,
      "outputs": [
        {
          "output_type": "stream",
          "name": "stdout",
          "text": [
            "torch.Size([128, 256])\n"
          ]
        }
      ]
    },
    {
      "cell_type": "markdown",
      "source": [],
      "metadata": {
        "id": "qLmDkLxYBa2u"
      }
    },
    {
      "cell_type": "code",
      "source": [
        "\n",
        "classify.eval()\n",
        "classify_test_loss_avg = 0\n",
        "num_batches = 0\n",
        "for image_batch, target in dataloader_test:\n",
        "    \n",
        "    with torch.no_grad():\n",
        "\n",
        "        image_batch = image_batch.to(device)\n",
        "        target = target.to(device)\n",
        "        # autoencoder reconstruction\n",
        "        \n",
        "        latent = autoencoder.encoder(image_batch)\n",
        "        latent = latent.to(device)\n",
        "        image_batch_classify = classify(latent)\n",
        "\n",
        "        # reconstruction error\n",
        "        loss = F.cross_entropy(image_batch_classify, target)\n",
        "\n",
        "        classify_test_loss_avg += loss.item()\n",
        "        num_batches += 1\n",
        "    \n",
        "classify_test_loss_avg /= num_batches\n",
        "print('average Classification error: %f' % (classify_test_loss_avg))"
      ],
      "metadata": {
        "colab": {
          "base_uri": "https://localhost:8080/"
        },
        "id": "1oKnDVIvyPt0",
        "outputId": "5bff68be-bbd1-4fa7-8bb9-ac6ca1bbf526"
      },
      "execution_count": null,
      "outputs": [
        {
          "output_type": "stream",
          "name": "stdout",
          "text": [
            "average Classification error: 5.899841\n"
          ]
        }
      ]
    },
    {
      "cell_type": "code",
      "source": [],
      "metadata": {
        "id": "TUewS7W5ybXG"
      },
      "execution_count": null,
      "outputs": []
    }
  ]
}